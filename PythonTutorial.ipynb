{
  "cells": [
    {
      "cell_type": "markdown",
      "metadata": {
        "id": "view-in-github",
        "colab_type": "text"
      },
      "source": [
        "<a href=\"https://colab.research.google.com/github/hiep273/ML_Notebooks/blob/main/PythonTutorial.ipynb\" target=\"_parent\"><img src=\"https://colab.research.google.com/assets/colab-badge.svg\" alt=\"Open In Colab\"/></a>"
      ]
    },
    {
      "cell_type": "code",
      "execution_count": null,
      "metadata": {
        "colab": {
          "base_uri": "https://localhost:8080/"
        },
        "id": "disI3H4V3NzH",
        "outputId": "05d94b43-9510-4ded-985b-0157f7f208bb"
      },
      "outputs": [
        {
          "name": "stdout",
          "output_type": "stream",
          "text": [
            "Heloo\n"
          ]
        }
      ],
      "source": [
        "print(\"Heloo\")"
      ]
    },
    {
      "cell_type": "code",
      "execution_count": null,
      "metadata": {
        "colab": {
          "base_uri": "https://localhost:8080/"
        },
        "id": "GGsUMIdYPfie",
        "outputId": "f2233545-12e0-4121-c170-c29f504b0e15"
      },
      "outputs": [
        {
          "name": "stdout",
          "output_type": "stream",
          "text": [
            "1\n",
            "2\n",
            "3\n",
            "4\n",
            "5\n",
            "6\n"
          ]
        }
      ],
      "source": [
        "#duyệt các phần tử của mảng\n",
        "import numpy as np\n",
        "# arr_1=np.array([1,2,3,4,5])\n",
        " #c1 duyet\n",
        "# for i in arr_1:\n",
        "#   print(i)\n",
        "#lam viec mang 2 chieu\n",
        "m=np.array([[1,2,3],[4,5,6]])\n",
        "for i in m:\n",
        "  for j in i:\n",
        "    print(j)\n",
        "\n"
      ]
    },
    {
      "cell_type": "code",
      "execution_count": null,
      "metadata": {
        "colab": {
          "base_uri": "https://localhost:8080/",
          "height": 646
        },
        "id": "5Yt3lB8FA1ZQ",
        "outputId": "23c44a72-7583-48ee-a551-2fee10270b4f"
      },
      "outputs": [
        {
          "ename": "TypeError",
          "evalue": "'str' object is not callable",
          "output_type": "error",
          "traceback": [
            "\u001b[0;31m---------------------------------------------------------------------------\u001b[0m",
            "\u001b[0;31mTypeError\u001b[0m                                 Traceback (most recent call last)",
            "\u001b[0;32m/tmp/ipython-input-4202017698.py\u001b[0m in \u001b[0;36m<cell line: 0>\u001b[0;34m()\u001b[0m\n\u001b[1;32m      5\u001b[0m \u001b[0mplt\u001b[0m\u001b[0;34m.\u001b[0m\u001b[0mplot\u001b[0m\u001b[0;34m(\u001b[0m\u001b[0mx\u001b[0m\u001b[0;34m,\u001b[0m\u001b[0my\u001b[0m\u001b[0;34m)\u001b[0m\u001b[0;34m\u001b[0m\u001b[0;34m\u001b[0m\u001b[0m\n\u001b[1;32m      6\u001b[0m \u001b[0mplt\u001b[0m\u001b[0;34m.\u001b[0m\u001b[0mtitle\u001b[0m\u001b[0;34m(\u001b[0m\u001b[0;34m\"Do thi\"\u001b[0m\u001b[0;34m)\u001b[0m\u001b[0;34m\u001b[0m\u001b[0;34m\u001b[0m\u001b[0m\n\u001b[0;32m----> 7\u001b[0;31m \u001b[0mplt\u001b[0m\u001b[0;34m.\u001b[0m\u001b[0mxlabel\u001b[0m\u001b[0;34m(\u001b[0m\u001b[0;34m\"truc x\"\u001b[0m\u001b[0;34m)\u001b[0m\u001b[0;34m\u001b[0m\u001b[0;34m\u001b[0m\u001b[0m\n\u001b[0m\u001b[1;32m      8\u001b[0m \u001b[0mplt\u001b[0m\u001b[0;34m.\u001b[0m\u001b[0mylabel\u001b[0m\u001b[0;34m(\u001b[0m\u001b[0;34m\"truc y\"\u001b[0m\u001b[0;34m)\u001b[0m\u001b[0;34m\u001b[0m\u001b[0;34m\u001b[0m\u001b[0m\n\u001b[1;32m      9\u001b[0m \u001b[0mplt\u001b[0m\u001b[0;34m.\u001b[0m\u001b[0mgrid\u001b[0m\u001b[0;34m(\u001b[0m\u001b[0;32mTrue\u001b[0m\u001b[0;34m)\u001b[0m\u001b[0;34m\u001b[0m\u001b[0;34m\u001b[0m\u001b[0m\n",
            "\u001b[0;31mTypeError\u001b[0m: 'str' object is not callable"
          ]
        },
        {
          "data": {
            "image/png": "[encoded data removed]",
            "text/plain": [
              "<Figure size 640x480 with 1 Axes>"
            ]
          },
          "metadata": {},
          "output_type": "display_data"
        }
      ],
      "source": [
        "import numpy as np\n",
        "import matplotlib.pyplot as plt\n",
        "x=np.linspace(0,30,100)\n",
        "y=x**2\n",
        "plt.plot(x,y)\n",
        "plt.title(\"Do thi\")\n",
        "plt.xlabel(\"truc x\")\n",
        "plt.ylabel(\"truc y\")\n",
        "plt.grid(True)\n",
        "plt.figtext(0.25,-0.05,'Hinh1: Do thi y=x^2')\n",
        "plt.legend(loc=1)"
      ]
    },
    {
      "cell_type": "code",
      "execution_count": null,
      "metadata": {
        "id": "yK7h6kxnluFC"
      },
      "outputs": [],
      "source": [
        "import numpy as np\n",
        "import pandas as pd\n",
        "import matplotlib.pyplot as plt\n",
        "#tao du lieu\n",
        "x=np.linspace(0,30,1000)\n",
        "y=np.cos(x)\n",
        "plt.plot(x,y,label=\"hinh sin\")\n",
        "# tao tieu de\n",
        "plt.title(\"Song am\")\n",
        "plt.legend(loc=1)\n",
        "\n"
      ]
    },
    {
      "cell_type": "code",
      "execution_count": null,
      "metadata": {
        "id": "BXK1D7BE7Scr"
      },
      "outputs": [],
      "source": [
        "import numpy as np\n",
        "import matplotlib.pylot as plt\n"
      ]
    },
    {
      "cell_type": "markdown",
      "metadata": {
        "id": "HaS2RpxMjEdt"
      },
      "source": [
        "# New Section"
      ]
    },
    {
      "cell_type": "code",
      "execution_count": null,
      "metadata": {
        "id": "k_gjj4lw7fuq"
      },
      "outputs": [],
      "source": [
        "import pandas as pd\n",
        "import matplotlib.pyplot as plt\n",
        "from google.colab import files\n",
        "uploaded = files.upload()\n",
        "df=pd.read_excel(\"New_my_df.xlsx\",sheet_name=\"Sheet1\")\n",
        "print(df)\n",
        "print(\"----\")\n",
        "df.hist()\n",
        "\n"
      ]
    },
    {
      "cell_type": "code",
      "execution_count": null,
      "metadata": {
        "id": "EfJAfiy_Azei"
      },
      "outputs": [],
      "source": []
    },
    {
      "cell_type": "code",
      "execution_count": null,
      "metadata": {
        "id": "oakQGhEZdzft"
      },
      "outputs": [],
      "source": [
        "import numpy as np\n",
        "import matplotlib.pyplot as plt\n",
        "x1=np.linspace(-10,10,100)\n",
        "x2=np.linspace(-10,10,30)\n",
        "y1=np.sin(x1)\n",
        "y2=np.cos(x2)\n",
        "y3=x1**2\n",
        "y4=x2**3\n",
        "#tao figure\n",
        "# plt.figure(1)\n",
        "# plt.subplot(2,1,1);plt.plot(x1,y1,\"r+\",label=\"Sinx\");plt.legend(loc=1)\n",
        "# plt.subplot(2,1,2)\n",
        "# plt.figure(2)\n",
        "# plt.subplot(1,2,1)\n",
        "# plt.subplot(1,2,2)\n",
        "#cos the tao doi tuong\n",
        "fig1,(sub1,sub2)=plt.subplots(nrows=2,ncols=1,figsize=(3,4))\n",
        "fig2,(sub3,sub4)=plt.subplots(nrows=2,ncols=1,figsize=(3,4))\n",
        "sub1.plot(x1,y1,\"g-\",label=\"Six\");sub1.legend(loc=1)\n",
        "\n"
      ]
    },
    {
      "cell_type": "code",
      "execution_count": null,
      "metadata": {
        "id": "2cI_TN5nWfl_"
      },
      "outputs": [],
      "source": [
        "print(12+15)"
      ]
    },
    {
      "cell_type": "code",
      "execution_count": null,
      "metadata": {
        "id": "Ro9e36ZyooN_"
      },
      "outputs": [],
      "source": [
        "#hieu ro ve MSE\n",
        "import numpy as np\n",
        "X=np.array([0,2,3,5,6,7])\n",
        "Y=np.array([5,11,14,20,23,26])\n",
        "'''p predict'''\n",
        "Yp=np.array([6,13,15,18,20,28])\n",
        "Saiso= Y-Yp\n",
        "print(Saiso)\n",
        "Binhphuongsaiso=Saiso*Saiso\n",
        "Tong=Binhphuongsaiso.sum()\n",
        "MSE=Tong/len(Y)\n",
        "print(MSE)"
      ]
    },
    {
      "cell_type": "code",
      "execution_count": null,
      "metadata": {
        "id": "dEwajnKZuxTo"
      },
      "outputs": [],
      "source": [
        "import numpy as np\n",
        "import pandas as pd\n",
        "import matplotlib.pyplot as plt\n",
        "import sklearn.linear_model as lm # su dung trong hoi quy tuyen tinhs\n",
        "#lay du lieu\n",
        "df=pd.read_excel(\"dulieu_df.xlsx\",sheet_name=\"Sheet1\")\n",
        "'''Stet1 chuan bi du lieu x, y'''\n",
        "X=np.array([df.so_gio_hoc.values]).T\n",
        "Y=df.diem.values\n",
        "# print(X)\n",
        "# print(Y)\n",
        "'''Stet2 su dung thuat toan ML'''\n",
        "LR=lm.LinearRegression()#hoi quy tuyen tinh\n",
        "''''Stet3 traingfit '''\n",
        "LR.fit(X,Y)\n",
        "#tim a va b\n",
        "a=LR.coef_\n",
        "b=LR.intercept_\n",
        "print(a)\n",
        "print(b)\n",
        "'''Set4 Test Data '''\n",
        "print(X)\n",
        "print(Y)\n",
        "Yp=LR.predict(X)\n",
        "print(np.int16(Yp))\n",
        "plt.plot(X,Y,\"y-\")\n",
        "plt.plot(X,Yp,\"r+\")\n",
        "plt.grid(True)\n",
        "#du doan ket qua\n",
        "print(\"tai gia tri x=15 thi ket qua  la:\\n\",LR.predict([[15]]))\n",
        "df.corr()\n",
        "print(df)\n",
        "#huan luyen  mo hinh\n"
      ]
    },
    {
      "cell_type": "code",
      "execution_count": null,
      "metadata": {
        "colab": {
          "background_save": true
        },
        "id": "SB23PRJTL8Zv"
      },
      "outputs": [],
      "source": [
        "import numpy as np\n",
        "import matplotlib.pyplot as plt\n",
        "import pandas as pd\n",
        "import sklearn.linear_model as lm\n",
        "from sklearn.metrics import r2_score,mean_absolute_error,mean_squared_error\n",
        "from  sklearn.pipeline import make_pipeline\n",
        "from sklearn.preprocessing import PolynomialFeatures\n",
        "from sklearn.model_selection import train_test_split\n",
        "#step1 prepare data (chuan bi du lieu )\n",
        "X=np.array([[2,3,4,5,6,7,8,9,10]]).T\n",
        "Y=np.array([30,35,40,44,48,60,66,70,75])\n",
        "X_train,X_test,Y_train,Y_test=train_test_split(X,Y,train_size=0.6,random_state=1)\n",
        "print( \"gia tri dung de hoc:\\n\",X_train)\n",
        "print(\"gia tri dung de test:\\n\",X_test)\n",
        "#Step2 xay dung thuat toan\n",
        "LR=lm.LinearRegression()\n",
        "mohinh=make_pipeline(PolynomialFeatures(1),LR)\n",
        "#step 3 training\n",
        "mohinh.fit(X_train,Y_train)\n",
        "Y_trainP=mohinh.predict(X_train)\n",
        "R1=r2_score(Y_trainP,Y_train)\n",
        "#step4 test\n",
        "#  Yp=mohinh.predict(X)\n",
        "Y_testP=mohinh.predict(X_test)\n",
        "# MSE=mean_absolute_error(Y,Yp)\n",
        "R2=r2_score(Y_test,Y_testP)\n",
        "# print(Y)\n",
        "# print(Yp)\n",
        "# print(MSE)\n",
        "# print(R2)\n",
        "print(R1)\n",
        "print(R2)\n",
        "plt.plot(X_train,Y_trainP,\"r*\")\n",
        "plt.plot(X_train,Y_trainP,\"gv\")\n",
        "#R1 0.0012019030825280996\n"
      ]
    },
    {
      "cell_type": "code",
      "execution_count": null,
      "metadata": {
        "colab": {
          "background_save": true
        },
        "id": "76PQZughPm_I"
      },
      "outputs": [],
      "source": [
        "from types import ClassMethodDescriptorType\n",
        "import numpy as np\n",
        "import pandas as pd\n",
        "import matplotlib.pyplot as plt\n",
        "import sklearn.linear_model as lm\n",
        "from sklearn.linear_model import LinearRegression,LogisticRegression\n",
        "from sklearn.metrics import r2_score,mean_absolute_error,mean_absolute_error,accuracy_score\n",
        "from sklearn.metrics import confusion_matrix,classification_report,\n",
        "from sklearn.pipeline import make_pipeline\n",
        "from sklearn.preprocessing import PolynomialFeatures\n",
        "from sklearn.model_selection import train_test_split\n",
        "#chuan bi  du lieu\n",
        "X=np.array([[2,3,4,5,6,7,8,9,10]]).T\n",
        "Y=np.array([0,0,0,0,0,1,1,1,1])\n",
        "#du lieu test, du lieu training\n",
        "# print(X)\n",
        "X_train,X_test,Y_train,Y_test=train_test_split(X,Y,train_size=0.6,random_state=1)\n",
        "#xay dung thuat toan\n",
        "LS=lm.LogisticRegression()\n",
        "Mohinh=make_pipeline(PolynomialFeatures(1),LS)\n",
        "#trainning\n",
        "Mohinh.fit(X_train,Y_train)\n",
        "#danh gia mo hinh f\n",
        "# accuracy_train=Mohinh.score(X_train,Y_train)\n",
        "Y_trainP=Mohinh.predict(X_train)\n",
        "CM=confusion_matrix(Y_train,Y_trainP)\n",
        "print(CM)\n",
        "accuracy_train=accuracy_score(Y_train,Y_trainP)\n",
        "print(\"do chinh xac\",accuracy_train)\n",
        "# Y_trainP=Mohinh.predict(X_train)\n",
        "# r1=r2_score(Y_trainP,Y_train)\n",
        "# print(Y_train)\n",
        "# print(Y_trainP)\n",
        "# print(r1)\n",
        "#qua trinh tesst\n",
        "# Y_testP=Mohinh.predict(X_test)\n",
        "# R2=r2_score(Y_testP,Y_test)\n",
        "# print(R2)\n",
        "# print(Y_test)\n",
        "print(Y_train)\n",
        "print(Y_trainP)\n",
        "\n",
        "\n",
        "\n",
        "\n",
        "\n",
        "\n",
        "\n",
        "\n"
      ]
    },
    {
      "cell_type": "code",
      "execution_count": null,
      "metadata": {
        "colab": {
          "base_uri": "https://localhost:8080/",
          "height": 466
        },
        "id": "4pzOj76MNExP",
        "outputId": "0f534ab1-a185-4a79-c6e1-67a8dc13aedd"
      },
      "outputs": [
        {
          "output_type": "execute_result",
          "data": {
            "text/plain": [
              "<matplotlib.legend.Legend at 0x7972362b7890>"
            ]
          },
          "metadata": {},
          "execution_count": 1
        },
        {
          "output_type": "display_data",
          "data": {
            "text/plain": [
              "<Figure size 640x480 with 1 Axes>"
            ],
            "image/png": "[encoded data removed]"
          },
          "metadata": {}
        }
      ],
      "source": [
        "import numpy as np\n",
        "import pandas as pd\n",
        "import matplotlib.pyplot as plt\n",
        "import sklearn.linear_model as lm\n",
        "from  sklearn.linear_model import LinearRegression,LogisticRegression\n",
        "from  sklearn.metrics import r2_score,confusion_matrix,classification_report,accuracy_score\n",
        "from sklearn.metrics import roc_curve\n",
        "from sklearn.model_selection import train_test_split\n",
        "#tao du lieu\n",
        "X=np.array([[2,3,4,5,6,7,8,9,10]]).T\n",
        "Y=np.array([0,0,0,0,0,1,1,1,1])\n",
        "X_train,X_test,Y_train,Y_test=train_test_split(X,Y,train_size=0.6,random_state=1)\n",
        "#thuat toan\n",
        "mohinh=lm.LogisticRegression()\n",
        "#Trainning\n",
        "mohinh.fit(X_train,Y_train)\n",
        "# Y_trainP=mohinh.predict(X_train)\n",
        "# Y_trainPP=mohinh.predict_proba(X_train)[:,1]\n",
        "# fpr,tpr,_=roc_curve(Y_train,Y_trainPP)\n",
        "# plt.plot(fpr,tpr,label=\"ROC\")\n",
        "# plt.ylabel('False Positive Rate')\n",
        "# plt.xlabel('True Positive Rate')\n",
        "# print(Y_train)\n",
        "# print(Y_trainP)\n",
        "# accuracy_train=mohinh.score(X_train,Y_train)\n",
        "# report= classification_report(Y_train,Y_trainP)\n",
        "# print(accuracy_train)\n",
        "# print(report)\n",
        "#qua trinh test\n",
        "Y_testP=mohinh.predict(X_test)\n",
        "Y_testPP=mohinh.predict_proba(X_test)[:,1]\n",
        "fpr,tpr,_=roc_curve(Y_test,Y_testPP)\n",
        "plt.plot(fpr,tpr,label=\"ROC\")\n",
        "plt.xlabel('flase positive rate')\n",
        "plt.ylabel('true positive rate')\n",
        "plt.legend(loc=\"lower right\")\n",
        "\n"
      ]
    }
  ],
  "metadata": {
    "colab": {
      "provenance": [],
      "authorship_tag": "ABX9TyPGaiA4F+qsDb1FoZQ/BM7A",
      "include_colab_link": true
    },
    "kernelspec": {
      "display_name": "Python 3",
      "name": "python3"
    },
    "language_info": {
      "name": "python"
    }
  },
  "nbformat": 4,
  "nbformat_minor": 0
}