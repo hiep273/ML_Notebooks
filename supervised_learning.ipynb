{
  "nbformat": 4,
  "nbformat_minor": 0,
  "metadata": {
    "colab": {
      "provenance": [],
      "authorship_tag": "ABX9TyNBzr1axPpEWTZWTbKPSe09",
      "include_colab_link": true
    },
    "kernelspec": {
      "name": "python3",
      "display_name": "Python 3"
    },
    "language_info": {
      "name": "python"
    }
  },
  "cells": [
    {
      "cell_type": "markdown",
      "metadata": {
        "id": "view-in-github",
        "colab_type": "text"
      },
      "source": [
        "<a href=\"https://colab.research.google.com/github/hiep273/ML_Notebooks/blob/main/supervised_learning.ipynb\" target=\"_parent\"><img src=\"https://colab.research.google.com/assets/colab-badge.svg\" alt=\"Open In Colab\"/></a>"
      ]
    },
    {
      "cell_type": "code",
      "execution_count": null,
      "metadata": {
        "id": "O52wD-OBiL0r",
        "colab": {
          "base_uri": "https://localhost:8080/"
        },
        "outputId": "b878b6cf-9be0-4d5c-e25e-13eefe8fcdc5"
      },
      "outputs": [
        {
          "output_type": "stream",
          "name": "stdout",
          "text": [
            "[1 2 3]\n"
          ]
        }
      ],
      "source": [
        "import numpy as np\n",
        "new_arr=np.array([1,2,3])\n",
        "print(new_arr)"
      ]
    },
    {
      "cell_type": "code",
      "source": [
        "import numpy as np\n",
        "import matplotlib.pyplot as plt\n",
        "from sklearn.datasets import make_blobs\n",
        "#create blobs\n",
        "centers= np.array([[-5,-5],[-5,5],[5,-5],[5,5]])\n",
        "print(centers)\n",
        "#taod4 nhom du lieue khac nhau\n",
        "blobs, group= make_blobs(n_samples=200,n_features=2,centers=centers,cluster_std=1.5)\n",
        "#show\n",
        "# plt.scatter(blobs[:, 0],blobs[:,1],c='gray')\n",
        "#tao random centroid\n",
        "colors=['r','g','b','y']\n",
        "centroids= np.array([[-10,1],[-3,12],[10,10],[0,0]])\n",
        "for i in range(4):\n",
        "  plt.scatter(centroids[i:i+1,0],centroids[i:i+1,1],c=colors[i],s=250)\n",
        "plt.scatter(blobs[:,0],blobs[:,1],c='gray')\n",
        "# for _ in range(200):\n",
        "#   allcation=[]\n",
        "\n",
        "#   for j in range(blobs.shape[0]):\n",
        "#     distances= np.sum((blobs[j]- centroids) **2, axis=1)\n",
        "#     argmin=np.argmin(display)\n",
        "#     allcation.append(argmin)"
      ],
      "metadata": {
        "colab": {
          "base_uri": "https://localhost:8080/",
          "height": 517
        },
        "id": "S0rgpNO9s56m",
        "outputId": "ca524ed2-e256-4cce-d0b1-9436f0f2b13f"
      },
      "execution_count": null,
      "outputs": [
        {
          "output_type": "stream",
          "name": "stdout",
          "text": [
            "[[-5 -5]\n",
            " [-5  5]\n",
            " [ 5 -5]\n",
            " [ 5  5]]\n"
          ]
        },
        {
          "output_type": "execute_result",
          "data": {
            "text/plain": [
              "<matplotlib.collections.PathCollection at 0x7e68b14a28d0>"
            ]
          },
          "metadata": {},
          "execution_count": 5
        },
        {
          "output_type": "display_data",
          "data": {
            "text/plain": [
              "<Figure size 640x480 with 1 Axes>"
            ],
            "image/png": "[encoded data removed]"
          },
          "metadata": {}
        }
      ]
    },
    {
      "cell_type": "code",
      "source": [],
      "metadata": {
        "id": "hm0TRAJnNM79"
      },
      "execution_count": null,
      "outputs": []
    },
    {
      "cell_type": "code",
      "source": [
        "import matplotlib.pyplot as plt\n",
        "import numpy as np\n",
        "import pandas as pd\n",
        "import sklearn.linear_model as lm\n",
        "from sklearn.linear_model import LinearRegression,LogisticRegression\n",
        "from sklearn.metrics import r2_score,confusion_matrix, accuracy_score,roc_curve\n",
        "from sklearn.metrics import classification_report\n",
        "from sklearn.model_selection import train_test_split\n",
        "#tao du lieu\n",
        "X=np.array([[2,3,4,5,6,7,8,9,10]]).T\n",
        "Y= np.array([0,0,0,0,0,1,1,1,1])\n",
        "X_train,X_test,Y_train,Y_test=train_test_split(X,Y,train_size=0.6,random_state=1)\n",
        "#Model bai toan\n",
        "mohinh=lm.LogisticRegression()\n",
        "#Training\n",
        "mohinh.fit(X_train,Y_train)\n",
        "Y_trainP=mohinh.predict(X_train)\n",
        "print(Y_trainP)\n",
        "print(Y_train)\n",
        "CM=confusion_matrix(Y_train,Y_trainP)\n",
        "TN=CM[0,0]\n",
        "print(CM)\n",
        "print(TN)\n",
        "\n",
        "\n"
      ],
      "metadata": {
        "id": "Bo0bIQpLjNX6",
        "colab": {
          "base_uri": "https://localhost:8080/"
        },
        "outputId": "8e3f69e4-9372-4308-ce6b-1e269241d3c1"
      },
      "execution_count": null,
      "outputs": [
        {
          "output_type": "stream",
          "name": "stdout",
          "text": [
            "[0 0 0 0 0]\n",
            "[0 0 0 0 1]\n",
            "[[4 0]\n",
            " [1 0]]\n",
            "4\n"
          ]
        }
      ]
    },
    {
      "cell_type": "code",
      "source": [
        "from google.colab import drive\n",
        "drive.mount('/content/drive')\n",
        "!git --version\n",
        "!git config --global user.name \"hiep273\"\n",
        "!git config --global user.email \"hieplah@gmail.com\"\n",
        "%cd /content\n",
        "!git clone https://github.com/hiep273/ML_Notebooks.git\n"
      ],
      "metadata": {
        "colab": {
          "base_uri": "https://localhost:8080/"
        },
        "id": "99r-ljnRtBLf",
        "outputId": "15298d1c-1a81-4c87-a5cf-a41745c0e3d0"
      },
      "execution_count": null,
      "outputs": [
        {
          "output_type": "stream",
          "name": "stdout",
          "text": [
            "Drive already mounted at /content/drive; to attempt to forcibly remount, call drive.mount(\"/content/drive\", force_remount=True).\n",
            "git version 2.34.1\n",
            "/content\n",
            "Cloning into 'ML_Notebooks'...\n",
            "warning: You appear to have cloned an empty repository.\n"
          ]
        }
      ]
    },
    {
      "cell_type": "code",
      "source": [
        "!git init\n",
        "!git add .\n",
        "!git commit -m \"first commit\"\n",
        "!git branch -M main\n",
        "!git remote add origin https://github.com/hiep273/ML_Notebooks.git\n",
        "!git push -u origin main"
      ],
      "metadata": {
        "colab": {
          "base_uri": "https://localhost:8080/"
        },
        "id": "qThr9EvZ2zl_",
        "outputId": "377c5817-1615-4f8b-f31e-79b17ab005b2"
      },
      "execution_count": null,
      "outputs": [
        {
          "output_type": "stream",
          "name": "stdout",
          "text": [
            "\u001b[33mhint: Using 'master' as the name for the initial branch. This default branch name\u001b[m\n",
            "\u001b[33mhint: is subject to change. To configure the initial branch name to use in all\u001b[m\n",
            "\u001b[33mhint: of your new repositories, which will suppress this warning, call:\u001b[m\n",
            "\u001b[33mhint: \u001b[m\n",
            "\u001b[33mhint: \tgit config --global init.defaultBranch <name>\u001b[m\n",
            "\u001b[33mhint: \u001b[m\n",
            "\u001b[33mhint: Names commonly chosen instead of 'master' are 'main', 'trunk' and\u001b[m\n",
            "\u001b[33mhint: 'development'. The just-created branch can be renamed via this command:\u001b[m\n",
            "\u001b[33mhint: \u001b[m\n",
            "\u001b[33mhint: \tgit branch -m <name>\u001b[m\n",
            "Initialized empty Git repository in /content/.git/\n",
            "error: 'ML_Notebooks/' does not have a commit checked out\n",
            "fatal: adding files failed\n",
            "On branch master\n",
            "\n",
            "Initial commit\n",
            "\n",
            "Untracked files:\n",
            "  (use \"git add <file>...\" to include in what will be committed)\n",
            "\t\u001b[31m.config/\u001b[m\n",
            "\t\u001b[31mML_Notebooks/\u001b[m\n",
            "\t\u001b[31mdrive/\u001b[m\n",
            "\t\u001b[31msample_data/\u001b[m\n",
            "\n",
            "nothing added to commit but untracked files present (use \"git add\" to track)\n",
            "error: src refspec main does not match any\n",
            "\u001b[31merror: failed to push some refs to 'https://github.com/hiep273/ML_Notebooks.git'\n",
            "\u001b[m"
          ]
        }
      ]
    },
    {
      "cell_type": "code",
      "source": [],
      "metadata": {
        "id": "TlB7TZPc3VKt"
      },
      "execution_count": null,
      "outputs": []
    }
  ]
}